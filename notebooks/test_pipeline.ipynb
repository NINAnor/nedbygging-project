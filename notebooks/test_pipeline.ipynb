{
 "cells": [
  {
   "cell_type": "code",
   "execution_count": 1,
   "metadata": {},
   "outputs": [],
   "source": [
    "from pathlib import Path\n",
    "from torchgeo.datasets import RasterDataset, unbind_samples, stack_samples\n",
    "from torchgeo.samplers import RandomGeoSampler, Units\n",
    "from torch.utils.data import DataLoader"
   ]
  },
  {
   "cell_type": "code",
   "execution_count": 84,
   "metadata": {},
   "outputs": [],
   "source": [
    "import random\n",
    "\n",
    "def select_random_month(batch):\n",
    "    num_months = 5\n",
    "    bands_per_month = 6\n",
    "\n",
    "    for sample in batch:\n",
    "        image = sample['image']\n",
    "\n",
    "        # Randomly select a month\n",
    "        selected_month = random.randint(0, num_months - 1)\n",
    "        band_start = selected_month * bands_per_month\n",
    "        band_end = band_start + bands_per_month\n",
    "\n",
    "        # Select the bands for the chosen month\n",
    "        sample['image'] = image[band_start:band_end, :, :]\n",
    "        sample['selected_month'] = selected_month  # Add metadata if needed\n",
    "\n",
    "    return stack_samples(batch)\n",
    "\n",
    "\n",
    "def main(root_path):\n",
    "\n",
    "    train_imgs = RasterDataset(\n",
    "        paths=(root_path/'tra_scene').as_posix(), \n",
    "        crs='epsg:32633', res=10\n",
    "    )\n",
    "\n",
    "    train_masks = RasterDataset(\n",
    "        paths=(root_path/'tra_truth').as_posix(), \n",
    "        crs='epsg:32633', res=10\n",
    "    )\n",
    "    train_masks.is_image = False\n",
    "\n",
    "    sampler = RandomGeoSampler(dataset = train_imgs, size=512, length=30, units=Units.PIXELS)\n",
    "\n",
    "    train_dset = train_imgs & train_masks\n",
    "\n",
    "    dataloader = DataLoader(train_dset, sampler=sampler, batch_size=4, collate_fn=select_random_month)\n",
    "\n",
    "    return dataloader\n",
    "\n",
    "\n"
   ]
  },
  {
   "cell_type": "code",
   "execution_count": 65,
   "metadata": {},
   "outputs": [],
   "source": [
    "root = Path(\"/data/Prosjekter3/154012_monitoring_natural_habitat_loss_in_norway_with_cop/R/DATA/For_MSc/Project_1/\")"
   ]
  },
  {
   "cell_type": "code",
   "execution_count": 73,
   "metadata": {},
   "outputs": [],
   "source": [
    "loader = main(root_path=root)"
   ]
  },
  {
   "cell_type": "code",
   "execution_count": 83,
   "metadata": {},
   "outputs": [
    {
     "ename": "AttributeError",
     "evalue": "'tuple' object has no attribute 'intersects'",
     "output_type": "error",
     "traceback": [
      "\u001b[0;31m---------------------------------------------------------------------------\u001b[0m",
      "\u001b[0;31mAttributeError\u001b[0m                            Traceback (most recent call last)",
      "Cell \u001b[0;32mIn[83], line 1\u001b[0m\n\u001b[0;32m----> 1\u001b[0m batch \u001b[38;5;241m=\u001b[39m \u001b[38;5;28;43mnext\u001b[39;49m\u001b[43m(\u001b[49m\u001b[38;5;28;43miter\u001b[39;49m\u001b[43m(\u001b[49m\u001b[43mloader\u001b[49m\u001b[43m)\u001b[49m\u001b[43m)\u001b[49m\n",
      "File \u001b[0;32m~/Code/nedbygging-project/.venv/lib/python3.10/site-packages/torch/utils/data/dataloader.py:701\u001b[0m, in \u001b[0;36m_BaseDataLoaderIter.__next__\u001b[0;34m(self)\u001b[0m\n\u001b[1;32m    698\u001b[0m \u001b[38;5;28;01mif\u001b[39;00m \u001b[38;5;28mself\u001b[39m\u001b[38;5;241m.\u001b[39m_sampler_iter \u001b[38;5;129;01mis\u001b[39;00m \u001b[38;5;28;01mNone\u001b[39;00m:\n\u001b[1;32m    699\u001b[0m     \u001b[38;5;66;03m# TODO(https://github.com/pytorch/pytorch/issues/76750)\u001b[39;00m\n\u001b[1;32m    700\u001b[0m     \u001b[38;5;28mself\u001b[39m\u001b[38;5;241m.\u001b[39m_reset()  \u001b[38;5;66;03m# type: ignore[call-arg]\u001b[39;00m\n\u001b[0;32m--> 701\u001b[0m data \u001b[38;5;241m=\u001b[39m \u001b[38;5;28;43mself\u001b[39;49m\u001b[38;5;241;43m.\u001b[39;49m\u001b[43m_next_data\u001b[49m\u001b[43m(\u001b[49m\u001b[43m)\u001b[49m\n\u001b[1;32m    702\u001b[0m \u001b[38;5;28mself\u001b[39m\u001b[38;5;241m.\u001b[39m_num_yielded \u001b[38;5;241m+\u001b[39m\u001b[38;5;241m=\u001b[39m \u001b[38;5;241m1\u001b[39m\n\u001b[1;32m    703\u001b[0m \u001b[38;5;28;01mif\u001b[39;00m (\n\u001b[1;32m    704\u001b[0m     \u001b[38;5;28mself\u001b[39m\u001b[38;5;241m.\u001b[39m_dataset_kind \u001b[38;5;241m==\u001b[39m _DatasetKind\u001b[38;5;241m.\u001b[39mIterable\n\u001b[1;32m    705\u001b[0m     \u001b[38;5;129;01mand\u001b[39;00m \u001b[38;5;28mself\u001b[39m\u001b[38;5;241m.\u001b[39m_IterableDataset_len_called \u001b[38;5;129;01mis\u001b[39;00m \u001b[38;5;129;01mnot\u001b[39;00m \u001b[38;5;28;01mNone\u001b[39;00m\n\u001b[1;32m    706\u001b[0m     \u001b[38;5;129;01mand\u001b[39;00m \u001b[38;5;28mself\u001b[39m\u001b[38;5;241m.\u001b[39m_num_yielded \u001b[38;5;241m>\u001b[39m \u001b[38;5;28mself\u001b[39m\u001b[38;5;241m.\u001b[39m_IterableDataset_len_called\n\u001b[1;32m    707\u001b[0m ):\n",
      "File \u001b[0;32m~/Code/nedbygging-project/.venv/lib/python3.10/site-packages/torch/utils/data/dataloader.py:757\u001b[0m, in \u001b[0;36m_SingleProcessDataLoaderIter._next_data\u001b[0;34m(self)\u001b[0m\n\u001b[1;32m    755\u001b[0m \u001b[38;5;28;01mdef\u001b[39;00m\u001b[38;5;250m \u001b[39m\u001b[38;5;21m_next_data\u001b[39m(\u001b[38;5;28mself\u001b[39m):\n\u001b[1;32m    756\u001b[0m     index \u001b[38;5;241m=\u001b[39m \u001b[38;5;28mself\u001b[39m\u001b[38;5;241m.\u001b[39m_next_index()  \u001b[38;5;66;03m# may raise StopIteration\u001b[39;00m\n\u001b[0;32m--> 757\u001b[0m     data \u001b[38;5;241m=\u001b[39m \u001b[38;5;28;43mself\u001b[39;49m\u001b[38;5;241;43m.\u001b[39;49m\u001b[43m_dataset_fetcher\u001b[49m\u001b[38;5;241;43m.\u001b[39;49m\u001b[43mfetch\u001b[49m\u001b[43m(\u001b[49m\u001b[43mindex\u001b[49m\u001b[43m)\u001b[49m  \u001b[38;5;66;03m# may raise StopIteration\u001b[39;00m\n\u001b[1;32m    758\u001b[0m     \u001b[38;5;28;01mif\u001b[39;00m \u001b[38;5;28mself\u001b[39m\u001b[38;5;241m.\u001b[39m_pin_memory:\n\u001b[1;32m    759\u001b[0m         data \u001b[38;5;241m=\u001b[39m _utils\u001b[38;5;241m.\u001b[39mpin_memory\u001b[38;5;241m.\u001b[39mpin_memory(data, \u001b[38;5;28mself\u001b[39m\u001b[38;5;241m.\u001b[39m_pin_memory_device)\n",
      "File \u001b[0;32m~/Code/nedbygging-project/.venv/lib/python3.10/site-packages/torch/utils/data/_utils/fetch.py:52\u001b[0m, in \u001b[0;36m_MapDatasetFetcher.fetch\u001b[0;34m(self, possibly_batched_index)\u001b[0m\n\u001b[1;32m     50\u001b[0m         data \u001b[38;5;241m=\u001b[39m \u001b[38;5;28mself\u001b[39m\u001b[38;5;241m.\u001b[39mdataset\u001b[38;5;241m.\u001b[39m__getitems__(possibly_batched_index)\n\u001b[1;32m     51\u001b[0m     \u001b[38;5;28;01melse\u001b[39;00m:\n\u001b[0;32m---> 52\u001b[0m         data \u001b[38;5;241m=\u001b[39m [\u001b[38;5;28mself\u001b[39m\u001b[38;5;241m.\u001b[39mdataset[idx] \u001b[38;5;28;01mfor\u001b[39;00m idx \u001b[38;5;129;01min\u001b[39;00m possibly_batched_index]\n\u001b[1;32m     53\u001b[0m \u001b[38;5;28;01melse\u001b[39;00m:\n\u001b[1;32m     54\u001b[0m     data \u001b[38;5;241m=\u001b[39m \u001b[38;5;28mself\u001b[39m\u001b[38;5;241m.\u001b[39mdataset[possibly_batched_index]\n",
      "File \u001b[0;32m~/Code/nedbygging-project/.venv/lib/python3.10/site-packages/torch/utils/data/_utils/fetch.py:52\u001b[0m, in \u001b[0;36m<listcomp>\u001b[0;34m(.0)\u001b[0m\n\u001b[1;32m     50\u001b[0m         data \u001b[38;5;241m=\u001b[39m \u001b[38;5;28mself\u001b[39m\u001b[38;5;241m.\u001b[39mdataset\u001b[38;5;241m.\u001b[39m__getitems__(possibly_batched_index)\n\u001b[1;32m     51\u001b[0m     \u001b[38;5;28;01melse\u001b[39;00m:\n\u001b[0;32m---> 52\u001b[0m         data \u001b[38;5;241m=\u001b[39m [\u001b[38;5;28;43mself\u001b[39;49m\u001b[38;5;241;43m.\u001b[39;49m\u001b[43mdataset\u001b[49m\u001b[43m[\u001b[49m\u001b[43midx\u001b[49m\u001b[43m]\u001b[49m \u001b[38;5;28;01mfor\u001b[39;00m idx \u001b[38;5;129;01min\u001b[39;00m possibly_batched_index]\n\u001b[1;32m     53\u001b[0m \u001b[38;5;28;01melse\u001b[39;00m:\n\u001b[1;32m     54\u001b[0m     data \u001b[38;5;241m=\u001b[39m \u001b[38;5;28mself\u001b[39m\u001b[38;5;241m.\u001b[39mdataset[possibly_batched_index]\n",
      "File \u001b[0;32m~/Code/nedbygging-project/.venv/lib/python3.10/site-packages/torchgeo/datasets/geo.py:1020\u001b[0m, in \u001b[0;36mIntersectionDataset.__getitem__\u001b[0;34m(self, query)\u001b[0m\n\u001b[1;32m   1008\u001b[0m \u001b[38;5;28;01mdef\u001b[39;00m\u001b[38;5;250m \u001b[39m\u001b[38;5;21m__getitem__\u001b[39m(\u001b[38;5;28mself\u001b[39m, query: BoundingBox) \u001b[38;5;241m-\u001b[39m\u001b[38;5;241m>\u001b[39m \u001b[38;5;28mdict\u001b[39m[\u001b[38;5;28mstr\u001b[39m, Any]:\n\u001b[1;32m   1009\u001b[0m \u001b[38;5;250m    \u001b[39m\u001b[38;5;124;03m\"\"\"Retrieve image and metadata indexed by query.\u001b[39;00m\n\u001b[1;32m   1010\u001b[0m \n\u001b[1;32m   1011\u001b[0m \u001b[38;5;124;03m    Args:\u001b[39;00m\n\u001b[0;32m   (...)\u001b[0m\n\u001b[1;32m   1018\u001b[0m \u001b[38;5;124;03m        IndexError: if query is not within bounds of the index\u001b[39;00m\n\u001b[1;32m   1019\u001b[0m \u001b[38;5;124;03m    \"\"\"\u001b[39;00m\n\u001b[0;32m-> 1020\u001b[0m     \u001b[38;5;28;01mif\u001b[39;00m \u001b[38;5;129;01mnot\u001b[39;00m \u001b[43mquery\u001b[49m\u001b[38;5;241;43m.\u001b[39;49m\u001b[43mintersects\u001b[49m(\u001b[38;5;28mself\u001b[39m\u001b[38;5;241m.\u001b[39mbounds):\n\u001b[1;32m   1021\u001b[0m         \u001b[38;5;28;01mraise\u001b[39;00m \u001b[38;5;167;01mIndexError\u001b[39;00m(\n\u001b[1;32m   1022\u001b[0m             \u001b[38;5;124mf\u001b[39m\u001b[38;5;124m'\u001b[39m\u001b[38;5;124mquery: \u001b[39m\u001b[38;5;132;01m{\u001b[39;00mquery\u001b[38;5;132;01m}\u001b[39;00m\u001b[38;5;124m not found in index with bounds: \u001b[39m\u001b[38;5;132;01m{\u001b[39;00m\u001b[38;5;28mself\u001b[39m\u001b[38;5;241m.\u001b[39mbounds\u001b[38;5;132;01m}\u001b[39;00m\u001b[38;5;124m'\u001b[39m\n\u001b[1;32m   1023\u001b[0m         )\n\u001b[1;32m   1025\u001b[0m     \u001b[38;5;66;03m# All datasets are guaranteed to have a valid query\u001b[39;00m\n",
      "\u001b[0;31mAttributeError\u001b[0m: 'tuple' object has no attribute 'intersects'"
     ]
    }
   ],
   "source": [
    "batch = next(iter(loader))"
   ]
  },
  {
   "cell_type": "code",
   "execution_count": 43,
   "metadata": {},
   "outputs": [
    {
     "data": {
      "text/plain": [
       "tensor([[[32645000., 17285000., 18335000.,  ...,  9655000.,  9720000.,\n",
       "           9680000.],\n",
       "         [21345000., 19865000., 26795000.,  ...,  9670000.,  9675000.,\n",
       "           9650000.],\n",
       "         [17775000., 28810000., 38390000.,  ...,  9655000.,  9665000.,\n",
       "           9720000.],\n",
       "         ...,\n",
       "         [60150000., 46640000., 57265000.,  ...,  9615000.,  9605000.,\n",
       "           9660000.],\n",
       "         [60525000., 49880000., 49205000.,  ...,  9680000.,  9705000.,\n",
       "           9715000.],\n",
       "         [62435000., 53455000., 35650000.,  ...,  9655000.,  9675000.,\n",
       "           9675000.]],\n",
       "\n",
       "        [[28550000., 15245000., 15905000.,  ...,  5855000.,  5890000.,\n",
       "           5900000.],\n",
       "         [18840000., 13955000., 25890000.,  ...,  5860000.,  5900000.,\n",
       "           5905000.],\n",
       "         [16210000., 23340000., 38540000.,  ...,  5855000.,  5910000.,\n",
       "           5915000.],\n",
       "         ...,\n",
       "         [57170000., 45920000., 52430000.,  ...,  5865000.,  5900000.,\n",
       "           5890000.],\n",
       "         [52855000., 45910000., 44700000.,  ...,  5925000.,  5955000.,\n",
       "           5965000.],\n",
       "         [55650000., 50275000., 31165000.,  ...,  5935000.,  5985000.,\n",
       "           5985000.]],\n",
       "\n",
       "        [[27890000., 14600000., 14735000.,  ...,  3410000.,  3410000.,\n",
       "           3415000.],\n",
       "         [17910000., 15370000., 27060000.,  ...,  3435000.,  3415000.,\n",
       "           3415000.],\n",
       "         [16610000., 24735000., 37805000.,  ...,  3450000.,  3365000.,\n",
       "           3405000.],\n",
       "         ...,\n",
       "         [62180000., 50370000., 55295000.,  ...,  3390000.,  3460000.,\n",
       "           3405000.],\n",
       "         [56590000., 49775000., 46790000.,  ...,  3410000.,  3425000.,\n",
       "           3525000.],\n",
       "         [59660000., 52040000., 35150000.,  ...,  3550000.,  3615000.,\n",
       "           3685000.]],\n",
       "\n",
       "        ...,\n",
       "\n",
       "        [[ 9880000., 11200000., 11200000.,  ...,  4310000.,  4230000.,\n",
       "           4230000.],\n",
       "         [11490000., 11530000., 11530000.,  ...,  4255000.,  4260000.,\n",
       "           4260000.],\n",
       "         [11490000., 11530000., 11530000.,  ...,  4255000.,  4260000.,\n",
       "           4260000.],\n",
       "         ...,\n",
       "         [14325000., 13785000., 13785000.,  ...,  4010000.,  4000000.,\n",
       "           4000000.],\n",
       "         [14300000., 13570000., 13570000.,  ...,  4100000.,  4090000.,\n",
       "           4090000.],\n",
       "         [14300000., 13570000., 13570000.,  ...,  4100000.,  4090000.,\n",
       "           4090000.]],\n",
       "\n",
       "        [[14270000., 14190000., 17420000.,  ...,  2845000.,  2835000.,\n",
       "           2950000.],\n",
       "         [13640000., 14440000., 16270000.,  ...,  2855000.,  2790000.,\n",
       "           2955000.],\n",
       "         [14990000., 16330000., 19190000.,  ...,  2805000.,  2890000.,\n",
       "           2970000.],\n",
       "         ...,\n",
       "         [26425000., 25870000., 24290000.,  ...,  2610000.,  2540000.,\n",
       "           2770000.],\n",
       "         [27235000., 25720000., 24290000.,  ...,  2800000.,  2690000.,\n",
       "           2670000.],\n",
       "         [27780000., 26170000., 24700000.,  ...,  2720000.,  2760000.,\n",
       "           2840000.]],\n",
       "\n",
       "        [[16600000., 18470000., 18470000.,  ...,   505000.,   505000.,\n",
       "            505000.],\n",
       "         [18980000., 18860000., 18860000.,  ...,   515000.,   490000.,\n",
       "            490000.],\n",
       "         [18980000., 18860000., 18860000.,  ...,   515000.,   490000.,\n",
       "            490000.],\n",
       "         ...,\n",
       "         [23455000., 21350000., 21350000.,  ...,   460000.,   420000.,\n",
       "            420000.],\n",
       "         [23590000., 20765000., 20765000.,  ...,   430000.,   530000.,\n",
       "            530000.],\n",
       "         [23590000., 20765000., 20765000.,  ...,   430000.,   530000.,\n",
       "            530000.]]])"
      ]
     },
     "execution_count": 43,
     "metadata": {},
     "output_type": "execute_result"
    }
   ],
   "source": [
    "batch['image'][0]"
   ]
  },
  {
   "cell_type": "code",
   "execution_count": 44,
   "metadata": {},
   "outputs": [],
   "source": [
    "from typing import Iterable, List\n",
    "import torch\n",
    "import matplotlib.pyplot as plt\n",
    "\n",
    "def plot_imgs(images: Iterable, axs: Iterable, chnls: List[int] = [0, 1, 2], bright: float = 3.):\n",
    "    for img, ax in zip(images, axs):\n",
    "        img = img[:3, :, :]  # take only the 3 first channels (RGB for May)\n",
    "        img = img.float()  \n",
    "\n",
    "        # Normalize the image to the [0, 1] range using min-max normalization\n",
    "        img_min, img_max = img.min(), img.max()\n",
    "        img = (img - img_min) / (img_max - img_min + 1e-8) \n",
    "\n",
    "        arr = torch.clamp(bright * img, min=0, max=1).numpy()\n",
    "        rgb = arr.transpose(1, 2, 0)  \n",
    "        \n",
    "        ax.imshow(rgb)\n",
    "        ax.axis('off')\n",
    "\n",
    "def plot_msks(masks: Iterable, axs: Iterable):\n",
    "    for mask, ax in zip(masks, axs):\n",
    "        ax.imshow(mask.squeeze().numpy(), cmap='Blues')\n",
    "        ax.axis('off')\n",
    "\n",
    "def plot_batch(batch: dict, bright: float = 3., cols: int = 4, width: int = 5, chnls: List[int] = [0, 1, 2]):\n",
    "    # Get the samples and the number of items in the batch\n",
    "    samples = unbind_samples(batch.copy())\n",
    "    \n",
    "    # if batch contains images and masks, the number of images will be doubled\n",
    "    n = 2 * len(samples) if ('image' in batch) and ('mask' in batch) else len(samples)\n",
    "\n",
    "    # calculate the number of rows in the grid\n",
    "    rows = n//cols + (1 if n%cols != 0 else 0)\n",
    "\n",
    "    # create a grid\n",
    "    _, axs = plt.subplots(rows, cols, figsize=(cols*width, rows*width))  \n",
    "\n",
    "    if ('image' in batch) and ('mask' in batch):\n",
    "        # plot the images on the even axis\n",
    "        plot_imgs(images=map(lambda x: x['image'], samples), axs=axs.reshape(-1)[::2], chnls=chnls, bright=bright)\n",
    "\n",
    "        # plot the masks on the odd axis\n",
    "        plot_msks(masks=map(lambda x: x['mask'], samples), axs=axs.reshape(-1)[1::2])\n",
    "\n",
    "    else:\n",
    "\n",
    "        if 'image' in batch:\n",
    "            plot_imgs(images=map(lambda x: x['image'], samples), axs=axs.reshape(-1), chnls=chnls, bright=bright)\n",
    "    \n",
    "        elif 'mask' in batch:\n",
    "            plot_msks(masks=map(lambda x: x['mask'], samples), axs=axs.reshape(-1))\n"
   ]
  },
  {
   "cell_type": "code",
   "execution_count": 46,
   "metadata": {},
   "outputs": [],
   "source": [
    "#plot_batch(batch)"
   ]
  },
  {
   "cell_type": "code",
   "execution_count": 48,
   "metadata": {},
   "outputs": [],
   "source": [
    "\n"
   ]
  },
  {
   "cell_type": "code",
   "execution_count": null,
   "metadata": {},
   "outputs": [],
   "source": []
  }
 ],
 "metadata": {
  "kernelspec": {
   "display_name": ".venv",
   "language": "python",
   "name": "python3"
  },
  "language_info": {
   "codemirror_mode": {
    "name": "ipython",
    "version": 3
   },
   "file_extension": ".py",
   "mimetype": "text/x-python",
   "name": "python",
   "nbconvert_exporter": "python",
   "pygments_lexer": "ipython3",
   "version": "3.10.12"
  }
 },
 "nbformat": 4,
 "nbformat_minor": 2
}
